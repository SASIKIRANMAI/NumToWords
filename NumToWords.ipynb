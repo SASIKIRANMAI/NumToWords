{
 "cells": [
  {
   "cell_type": "code",
   "execution_count": 1,
   "id": "e60ed327-6098-4f2a-908a-89173e2cc258",
   "metadata": {},
   "outputs": [
    {
     "name": "stdin",
     "output_type": "stream",
     "text": [
      "Enter a number: 22\n"
     ]
    },
    {
     "name": "stdout",
     "output_type": "stream",
     "text": [
      "22 : twenty two\n"
     ]
    }
   ],
   "source": [
    "def convert_to_words(num):\n",
    "\tl = len(num)\n",
    "\tif (l == 0):\n",
    "\t\tprint(\"empty string\")\n",
    "\t\treturn\n",
    "\n",
    "\tif (l > 4):\n",
    "\t\tprint(\"Length more than 4 is not supported\")\n",
    "\t\treturn\n",
    "\tsingle_digits = [\"zero\", \"one\", \"two\", \"three\",\n",
    "\t\t\t\t\t\"four\", \"five\", \"six\", \"seven\",\n",
    "\t\t\t\t\t\"eight\", \"nine\"]\n",
    "\ttwo_digits = [\"\", \"ten\", \"eleven\", \"twelve\",\n",
    "\t\t\t\t\"thirteen\", \"fourteen\", \"fifteen\",\n",
    "\t\t\t\t\"sixteen\", \"seventeen\", \"eighteen\",\n",
    "\t\t\t\t\"nineteen\"]\n",
    "\ttens_multiple = [\"\", \"\", \"twenty\", \"thirty\", \"forty\",\n",
    "\t\t\t\t\t\"fifty\", \"sixty\", \"seventy\", \"eighty\",\n",
    "\t\t\t\t\t\"ninety\"]\n",
    "\n",
    "\ttens_power = [\"hundred\", \"thousand\"]\n",
    "\tprint(num, \":\", end=\" \")\n",
    "\tif (l == 1):\n",
    "\t\tprint(single_digits[ord(num[0]) - 48])\n",
    "\t\treturn\n",
    "\tx = 0\n",
    "\twhile (x < len(num)):\n",
    "\t\tif (l >= 3):\n",
    "\t\t\tif (ord(num[x]) - 48 != 0):\n",
    "\t\t\t\tprint(single_digits[ord(num[x]) - 48],\n",
    "\t\t\t\t\tend=\" \")\n",
    "\t\t\t\tprint(tens_power[l - 3], end=\" \")\n",
    "\n",
    "\t\t\tl -= 1\n",
    "\t\telse:\n",
    "\t\t\tif (ord(num[x]) - 48 == 1):\n",
    "\t\t\t\tsum = (ord(num[x]) - 48 +\n",
    "\t\t\t\t\tord(num[x+1]) - 48)\n",
    "\t\t\t\tprint(two_digits[sum])\n",
    "\t\t\t\treturn\n",
    "\t\t\telif (ord(num[x]) - 48 == 2 and\n",
    "\t\t\t\tord(num[x + 1]) - 48 == 0):\n",
    "\t\t\t\tprint(\"twenty\")\n",
    "\t\t\t\treturn\n",
    "\t\t\telse:\n",
    "\t\t\t\ti = ord(num[x]) - 48\n",
    "\t\t\t\tif(i > 0):\n",
    "\t\t\t\t\tprint(tens_multiple[i], end=\" \")\n",
    "\t\t\t\telse:\n",
    "\t\t\t\t\tprint(\"\", end=\"\")\n",
    "\t\t\t\tx += 1\n",
    "\t\t\t\tif(ord(num[x]) - 48 != 0):\n",
    "\t\t\t\t\tprint(single_digits[ord(num[x]) - 48])\n",
    "\t\tx += 1\n",
    "num = input(\"Enter a number:\")\n",
    "convert_to_words(num)"
   ]
  },
  {
   "cell_type": "code",
   "execution_count": null,
   "id": "b663c140-bb98-44ed-a596-336ad7b7ff3a",
   "metadata": {},
   "outputs": [],
   "source": []
  }
 ],
 "metadata": {
  "kernelspec": {
   "display_name": "Python 3 (ipykernel)",
   "language": "python",
   "name": "python3"
  },
  "language_info": {
   "codemirror_mode": {
    "name": "ipython",
    "version": 3
   },
   "file_extension": ".py",
   "mimetype": "text/x-python",
   "name": "python",
   "nbconvert_exporter": "python",
   "pygments_lexer": "ipython3",
   "version": "3.12.2"
  }
 },
 "nbformat": 4,
 "nbformat_minor": 5
}
